{
 "cells": [
  {
   "cell_type": "markdown",
   "id": "80ecaacb",
   "metadata": {},
   "source": [
    "Classes and Objects\n",
    "\n",
    "You are required to create two classes :-\n",
    "\n",
    "1. Product\n",
    "    - Each product has name.\n",
    "    - Each product has price.\n",
    "    - Each product has quantity.\n",
    "    - Function to update the quantity.\n",
    "    - Function to calculate the total price.\n",
    "\n",
    "2. Inventory\n",
    "    - The inventory has a \"dictionary\" of products.\n",
    "    - The keys are the name of products and the values are the products themself.\n",
    "    - Add new product function.\n",
    "    - Update an exsisting product function.\n",
    "    - Remove product function.\n",
    "    - Calculate the total price of the products function.\n",
    "\n",
    "3. Test your classes by creating three products and one inventory. Do not forget to use every function.\n",
    "\n",
    "Do not forget to handle errors and unexpected states."
   ]
  },
  {
   "cell_type": "code",
   "execution_count": 19,
   "id": "97a526c8",
   "metadata": {},
   "outputs": [],
   "source": [
    "class Product:\n",
    "    def __init__(self, name, price, quantity):\n",
    "        self.name = name\n",
    "        self.price = price\n",
    "        self.quantity = quantity\n",
    "    \n",
    "    def updateQuantity(self, new_quantity):\n",
    "        self.quantity = new_quantity\n",
    "    \n",
    "    def totalPrice(self):\n",
    "        return self.price * self.quantity\n",
    "    \n",
    "    "
   ]
  },
  {
   "cell_type": "code",
   "execution_count": null,
   "id": "12f1f514",
   "metadata": {},
   "outputs": [],
   "source": [
    "class Inventory:\n",
    "    def __init__(self):\n",
    "        self.products = {}\n",
    "    \n",
    "    def addProduct(self, product):\n",
    "        self.products[product.name] = product\n",
    "    \n",
    "    def updateProduct(self, productName, newQuantity):\n",
    "        if productName in self.products:\n",
    "            self.products[productName].updateQuantity(newQuantity)\n",
    "        else:\n",
    "            print(\"Product not found in inventory.\")\n",
    "    \n",
    "    def removeProduct(self, productName):\n",
    "        if productName in self.products:\n",
    "            del self.products[productName]\n",
    "        else:\n",
    "            print(\"Product not found in inventory.\")\n",
    "    \n",
    "    def totalPrice(self):\n",
    "        total_price = 0\n",
    "        for product in self.products.values():\n",
    "            total_price += product.totalPrice()\n",
    "        return total_price"
   ]
  },
  {
   "cell_type": "code",
   "execution_count": 23,
   "id": "31a1a99a",
   "metadata": {},
   "outputs": [
    {
     "name": "stdout",
     "output_type": "stream",
     "text": [
      "Total price of products in inventory: 62900\n"
     ]
    }
   ],
   "source": [
    "pro1 = Product(\"iPhone15\", 7000, 1)\n",
    "pro2 = Product(\"sony headphone\", 1200, 2)\n",
    "pro3 = Product(\"airpod\", 800, 2)\n",
    "pro4 = Product(\"smart watch\",1500, 3)\n",
    "\n",
    "inventory = Inventory()\n",
    "inventory.addProduct(pro1)\n",
    "inventory.addProduct(pro2)\n",
    "inventory.addProduct(pro3)\n",
    "inventory.addProduct(pro4)\n",
    "\n",
    "inventory.updateProduct(\"iPhone15\", 8)\n",
    "inventory.removeProduct(\"airpod\")\n",
    "\n",
    "total_price = inventory.totalPrice()\n",
    "print(\"Total price of products in inventory:\", total_price)"
   ]
  },
  {
   "cell_type": "code",
   "execution_count": null,
   "id": "a5c1d251",
   "metadata": {},
   "outputs": [],
   "source": []
  }
 ],
 "metadata": {
  "kernelspec": {
   "display_name": "Python 3 (ipykernel)",
   "language": "python",
   "name": "python3"
  },
  "language_info": {
   "codemirror_mode": {
    "name": "ipython",
    "version": 3
   },
   "file_extension": ".py",
   "mimetype": "text/x-python",
   "name": "python",
   "nbconvert_exporter": "python",
   "pygments_lexer": "ipython3",
   "version": "3.11.5"
  }
 },
 "nbformat": 4,
 "nbformat_minor": 5
}
